{
 "cells": [
  {
   "cell_type": "markdown",
   "metadata": {},
   "source": [
    "# Softmax exercise\n",
    "\n",
    "*Complete and hand in this completed worksheet (including its outputs and any supporting code outside of the worksheet) with your assignment submission. For more details see the [assignments page](http://vision.stanford.edu/teaching/cs231n/assignments.html) on the course website.*\n",
    "\n",
    "This exercise is analogous to the SVM exercise. You will:\n",
    "\n",
    "- implement a fully-vectorized **loss function** for the Softmax classifier\n",
    "- implement the fully-vectorized expression for its **analytic gradient**\n",
    "- **check your implementation** with numerical gradient\n",
    "- use a validation set to **tune the learning rate and regularization** strength\n",
    "- **optimize** the loss function with **SGD**\n",
    "- **visualize** the final learned weights\n"
   ]
  },
  {
   "cell_type": "code",
   "execution_count": 1,
   "metadata": {
    "collapsed": false
   },
   "outputs": [
    {
     "name": "stderr",
     "output_type": "stream",
     "text": [
      "/home/pulkit/introduction_conv_neural_networks/assignment1/venv2.7/lib/python2.7/site-packages/matplotlib/font_manager.py:273: UserWarning: Matplotlib is building the font cache using fc-list. This may take a moment.\n",
      "  warnings.warn('Matplotlib is building the font cache using fc-list. This may take a moment.')\n"
     ]
    }
   ],
   "source": [
    "import random\n",
    "import numpy as np\n",
    "from cs231n.data_utils import load_CIFAR10\n",
    "import matplotlib.pyplot as plt\n",
    "%matplotlib inline\n",
    "plt.rcParams['figure.figsize'] = (10.0, 8.0) # set default size of plots\n",
    "plt.rcParams['image.interpolation'] = 'nearest'\n",
    "plt.rcParams['image.cmap'] = 'gray'\n",
    "\n",
    "# for auto-reloading extenrnal modules\n",
    "# see http://stackoverflow.com/questions/1907993/autoreload-of-modules-in-ipython\n",
    "%load_ext autoreload\n",
    "%autoreload 2"
   ]
  },
  {
   "cell_type": "code",
   "execution_count": 2,
   "metadata": {
    "collapsed": false
   },
   "outputs": [
    {
     "name": "stdout",
     "output_type": "stream",
     "text": [
      "Train data shape:  (49000, 3073)\n",
      "Train labels shape:  (49000,)\n",
      "Validation data shape:  (1000, 3073)\n",
      "Validation labels shape:  (1000,)\n",
      "Test data shape:  (1000, 3073)\n",
      "Test labels shape:  (1000,)\n",
      "dev data shape:  (500, 3073)\n",
      "dev labels shape:  (500,)\n"
     ]
    }
   ],
   "source": [
    "def get_CIFAR10_data(num_training=49000, num_validation=1000, num_test=1000, num_dev=500):\n",
    "  \"\"\"\n",
    "  Load the CIFAR-10 dataset from disk and perform preprocessing to prepare\n",
    "  it for the linear classifier. These are the same steps as we used for the\n",
    "  SVM, but condensed to a single function.  \n",
    "  \"\"\"\n",
    "  # Load the raw CIFAR-10 data\n",
    "  cifar10_dir = 'cs231n/datasets/cifar-10-batches-py'\n",
    "  X_train, y_train, X_test, y_test = load_CIFAR10(cifar10_dir)\n",
    "  \n",
    "  # subsample the data\n",
    "  mask = range(num_training, num_training + num_validation)\n",
    "  X_val = X_train[mask]\n",
    "  y_val = y_train[mask]\n",
    "  mask = range(num_training)\n",
    "  X_train = X_train[mask]\n",
    "  y_train = y_train[mask]\n",
    "  mask = range(num_test)\n",
    "  X_test = X_test[mask]\n",
    "  y_test = y_test[mask]\n",
    "  mask = np.random.choice(num_training, num_dev, replace=False)\n",
    "  X_dev = X_train[mask]\n",
    "  y_dev = y_train[mask]\n",
    "  \n",
    "  # Preprocessing: reshape the image data into rows\n",
    "  X_train = np.reshape(X_train, (X_train.shape[0], -1))\n",
    "  X_val = np.reshape(X_val, (X_val.shape[0], -1))\n",
    "  X_test = np.reshape(X_test, (X_test.shape[0], -1))\n",
    "  X_dev = np.reshape(X_dev, (X_dev.shape[0], -1))\n",
    "  \n",
    "  # Normalize the data: subtract the mean image\n",
    "  mean_image = np.mean(X_train, axis = 0)\n",
    "  X_train -= mean_image\n",
    "  X_val -= mean_image\n",
    "  X_test -= mean_image\n",
    "  X_dev -= mean_image\n",
    "  \n",
    "  # add bias dimension and transform into columns\n",
    "  X_train = np.hstack([X_train, np.ones((X_train.shape[0], 1))])\n",
    "  X_val = np.hstack([X_val, np.ones((X_val.shape[0], 1))])\n",
    "  X_test = np.hstack([X_test, np.ones((X_test.shape[0], 1))])\n",
    "  X_dev = np.hstack([X_dev, np.ones((X_dev.shape[0], 1))])\n",
    "  \n",
    "  return X_train, y_train, X_val, y_val, X_test, y_test, X_dev, y_dev\n",
    "\n",
    "\n",
    "# Invoke the above function to get our data.\n",
    "X_train, y_train, X_val, y_val, X_test, y_test, X_dev, y_dev = get_CIFAR10_data()\n",
    "print 'Train data shape: ', X_train.shape\n",
    "print 'Train labels shape: ', y_train.shape\n",
    "print 'Validation data shape: ', X_val.shape\n",
    "print 'Validation labels shape: ', y_val.shape\n",
    "print 'Test data shape: ', X_test.shape\n",
    "print 'Test labels shape: ', y_test.shape\n",
    "print 'dev data shape: ', X_dev.shape\n",
    "print 'dev labels shape: ', y_dev.shape"
   ]
  },
  {
   "cell_type": "markdown",
   "metadata": {},
   "source": [
    "## Softmax Classifier\n",
    "\n",
    "Your code for this section will all be written inside **cs231n/classifiers/softmax.py**. \n"
   ]
  },
  {
   "cell_type": "code",
   "execution_count": 16,
   "metadata": {
    "collapsed": false
   },
   "outputs": [
    {
     "name": "stdout",
     "output_type": "stream",
     "text": [
      "1.0\n",
      "loss: 2.384075\n",
      "sanity check: 2.302585\n"
     ]
    }
   ],
   "source": [
    "# First implement the naive softmax loss function with nested loops.\n",
    "# Open the file cs231n/classifiers/softmax.py and implement the\n",
    "# softmax_loss_naive function.\n",
    "\n",
    "from cs231n.classifiers.softmax import softmax_loss_naive\n",
    "import time\n",
    "\n",
    "# Generate a random softmax weight matrix and use it to compute the loss.\n",
    "W = np.random.randn(3073, 10) * 0.0001\n",
    "loss, grad = softmax_loss_naive(W, X_dev, y_dev, 0.0)\n",
    "\n",
    "# As a rough sanity check, our loss should be something close to -log(0.1).\n",
    "print 'loss: %f' % loss\n",
    "print 'sanity check: %f' % (-np.log(0.1))"
   ]
  },
  {
   "cell_type": "markdown",
   "metadata": {},
   "source": [
    "## Inline Question 1:\n",
    "Why do we expect our loss to be close to -log(0.1)? Explain briefly.**\n",
    "\n",
    "I think the loss is very much close to -log(0.1) because the every class has a probablity of getting correct p=0.1 and thus the number -log(0.1)"
   ]
  },
  {
   "cell_type": "code",
   "execution_count": 17,
   "metadata": {
    "collapsed": false
   },
   "outputs": [
    {
     "name": "stdout",
     "output_type": "stream",
     "text": [
      "1.0\n",
      "1.0\n",
      "1.0\n",
      "numerical: 0.772041 analytic: 0.772041, relative error: 1.169219e-08\n",
      "1.0\n",
      "1.0\n",
      "numerical: 3.708734 analytic: 3.708734, relative error: 1.961503e-08\n",
      "1.0\n",
      "1.0\n",
      "numerical: 0.179705 analytic: 0.179705, relative error: 1.038629e-07\n",
      "1.0\n",
      "1.0\n",
      "numerical: 1.143091 analytic: 1.143091, relative error: 6.107069e-08\n",
      "1.0\n",
      "1.0\n",
      "numerical: 1.408846 analytic: 1.408846, relative error: 4.290829e-08\n",
      "1.0\n",
      "1.0\n",
      "numerical: 1.627600 analytic: 1.627600, relative error: 2.934120e-08\n",
      "1.0\n",
      "1.0\n",
      "numerical: -1.052474 analytic: -1.052474, relative error: 2.737568e-08\n",
      "1.0\n",
      "1.0\n",
      "numerical: -3.461987 analytic: -3.461987, relative error: 1.331656e-08\n",
      "1.0\n",
      "1.0\n",
      "numerical: -0.302725 analytic: -0.302725, relative error: 6.143707e-08\n",
      "1.0\n",
      "1.0\n",
      "numerical: -0.059037 analytic: -0.059037, relative error: 1.183400e-07\n",
      "1.0\n",
      "1.0\n",
      "1.0\n",
      "numerical: 2.695657 analytic: 2.695657, relative error: 3.661138e-08\n",
      "1.0\n",
      "1.0\n",
      "numerical: -0.811701 analytic: -0.811701, relative error: 2.153362e-08\n",
      "1.0\n",
      "1.0\n",
      "numerical: 1.237325 analytic: 1.237325, relative error: 4.005186e-08\n",
      "1.0\n",
      "1.0\n",
      "numerical: -0.162777 analytic: -0.162777, relative error: 2.879408e-07\n",
      "1.0\n",
      "1.0\n",
      "numerical: 0.141697 analytic: 0.141696, relative error: 5.422240e-07\n",
      "1.0\n",
      "1.0\n",
      "numerical: -1.636419 analytic: -1.636419, relative error: 1.853529e-09\n",
      "1.0\n",
      "1.0\n",
      "numerical: 1.668082 analytic: 1.668082, relative error: 2.112935e-08\n",
      "1.0\n",
      "1.0\n",
      "numerical: 2.364018 analytic: 2.364018, relative error: 2.342297e-08\n",
      "1.0\n",
      "1.0\n",
      "numerical: 1.231586 analytic: 1.231586, relative error: 6.802996e-08\n",
      "1.0\n",
      "1.0\n",
      "numerical: -3.614404 analytic: -3.614404, relative error: 7.354905e-09\n"
     ]
    }
   ],
   "source": [
    "# Complete the implementation of softmax_loss_naive and implement a (naive)\n",
    "# version of the gradient that uses nested loops.\n",
    "loss, grad = softmax_loss_naive(W, X_dev, y_dev, 0.0)\n",
    "\n",
    "# As we did for the SVM, use numeric gradient checking as a debugging tool.\n",
    "# The numeric gradient should be close to the analytic gradient.\n",
    "from cs231n.gradient_check import grad_check_sparse\n",
    "f = lambda w: softmax_loss_naive(w, X_dev, y_dev, 0.0)[0]\n",
    "grad_numerical = grad_check_sparse(f, W, grad, 10)\n",
    "\n",
    "# similar to SVM case, do another gradient check with regularization\n",
    "loss, grad = softmax_loss_naive(W, X_dev, y_dev, 1e2)\n",
    "f = lambda w: softmax_loss_naive(w, X_dev, y_dev, 1e2)[0]\n",
    "grad_numerical = grad_check_sparse(f, W, grad, 10)"
   ]
  },
  {
   "cell_type": "code",
   "execution_count": 44,
   "metadata": {
    "collapsed": false
   },
   "outputs": [
    {
     "name": "stdout",
     "output_type": "stream",
     "text": [
      "naive loss: 2.384075e+00 computed in 0.358121s\n",
      "vectorized loss: 2.384075e+00 computed in 0.263595s\n",
      "Loss difference: 0.000000\n",
      "Gradient difference: 0.000000\n"
     ]
    }
   ],
   "source": [
    "# Now that we have a naive implementation of the softmax loss function and its gradient,\n",
    "# implement a vectorized version in softmax_loss_vectorized.\n",
    "# The two versions should compute the same results, but the vectorized version should be\n",
    "# much faster.\n",
    "tic = time.time()\n",
    "loss_naive, grad_naive = softmax_loss_naive(W, X_dev, y_dev, 0.00001)\n",
    "toc = time.time()\n",
    "print 'naive loss: %e computed in %fs' % (loss_naive, toc - tic)\n",
    "\n",
    "from cs231n.classifiers.softmax import softmax_loss_vectorized\n",
    "tic = time.time()\n",
    "loss_vectorized, grad_vectorized = softmax_loss_vectorized(W, X_dev, y_dev, 0.00001)\n",
    "toc = time.time()\n",
    "print 'vectorized loss: %e computed in %fs' % (loss_vectorized, toc - tic)\n",
    "\n",
    "# As we did for the SVM, we use the Frobenius norm to compare the two versions\n",
    "# of the gradient.\n",
    "grad_difference = np.linalg.norm(grad_naive - grad_vectorized, ord='fro')\n",
    "print 'Loss difference: %f' % np.abs(loss_naive - loss_vectorized)\n",
    "print 'Gradient difference: %f' % grad_difference"
   ]
  },
  {
   "cell_type": "code",
   "execution_count": 53,
   "metadata": {
    "collapsed": false
   },
   "outputs": [
    {
     "name": "stdout",
     "output_type": "stream",
     "text": [
      "iteration 0 / 1500: loss 779.824394\n",
      "iteration 100 / 1500: loss 286.376195\n",
      "iteration 200 / 1500: loss 105.968956\n",
      "iteration 300 / 1500: loss 40.188732\n",
      "iteration 400 / 1500: loss 16.044050\n",
      "iteration 500 / 1500: loss 7.199836\n",
      "iteration 600 / 1500: loss 3.970232\n",
      "iteration 700 / 1500: loss 2.811837\n",
      "iteration 800 / 1500: loss 2.333881\n",
      "iteration 900 / 1500: loss 2.176936\n",
      "iteration 1000 / 1500: loss 2.138403\n",
      "iteration 1100 / 1500: loss 2.046756\n",
      "iteration 1200 / 1500: loss 2.065845\n",
      "iteration 1300 / 1500: loss 2.044890\n",
      "iteration 1400 / 1500: loss 2.106291\n",
      "training accuracy: 0.324857\n",
      "validation accuracy: 0.342000\n",
      "iteration 0 / 1500: loss 15278.412519\n",
      "iteration 100 / 1500: loss 2.275314\n",
      "iteration 200 / 1500: loss 2.276969\n",
      "iteration 300 / 1500: loss 2.258369\n",
      "iteration 400 / 1500: loss 2.276688\n",
      "iteration 500 / 1500: loss 2.259888\n",
      "iteration 600 / 1500: loss 2.274157\n",
      "iteration 700 / 1500: loss 2.261741\n",
      "iteration 800 / 1500: loss 2.263324\n",
      "iteration 900 / 1500: loss 2.262493\n",
      "iteration 1000 / 1500: loss 2.271491\n",
      "iteration 1100 / 1500: loss 2.268089\n",
      "iteration 1200 / 1500: loss 2.273046\n",
      "iteration 1300 / 1500: loss 2.286698\n",
      "iteration 1400 / 1500: loss 2.269301\n",
      "training accuracy: 0.254490\n",
      "validation accuracy: 0.265000\n",
      "iteration 0 / 1500: loss 769.190844\n",
      "iteration 100 / 1500: loss 6.815728\n",
      "iteration 200 / 1500: loss 2.148989\n",
      "iteration 300 / 1500: loss 2.063920\n",
      "iteration 400 / 1500: loss 2.107316\n",
      "iteration 500 / 1500: loss 2.100480\n",
      "iteration 600 / 1500: loss 2.118263\n",
      "iteration 700 / 1500: loss 2.068888\n",
      "iteration 800 / 1500: loss 2.039738\n",
      "iteration 900 / 1500: loss 2.034586\n",
      "iteration 1000 / 1500: loss 2.068898\n",
      "iteration 1100 / 1500: loss 2.124748\n",
      "iteration 1200 / 1500: loss 2.053507\n",
      "iteration 1300 / 1500: loss 2.086354\n",
      "iteration 1400 / 1500: loss 2.087496\n",
      "training accuracy: 0.335347\n",
      "validation accuracy: 0.353000\n",
      "iteration 0 / 1500: loss 15174.772492\n",
      "iteration 100 / 1500: loss 2.278165\n",
      "iteration 200 / 1500: loss 2.270942\n",
      "iteration 300 / 1500: loss 2.280432\n",
      "iteration 400 / 1500: loss 2.279877\n",
      "iteration 500 / 1500: loss 2.285135\n",
      "iteration 600 / 1500: loss 2.287215\n",
      "iteration 700 / 1500: loss 2.270052\n",
      "iteration 800 / 1500: loss 2.289709\n",
      "iteration 900 / 1500: loss 2.271879\n",
      "iteration 1000 / 1500: loss 2.292459\n",
      "iteration 1100 / 1500: loss 2.287624\n",
      "iteration 1200 / 1500: loss 2.289548\n",
      "iteration 1300 / 1500: loss 2.275122\n",
      "iteration 1400 / 1500: loss 2.292046\n",
      "training accuracy: 0.248429\n",
      "validation accuracy: 0.254000\n",
      "lr 0.000000e+00 reg 0.000000e+00 train accuracy: 0.324857 val accuracy: 0.342000\n",
      "lr 0.000000e+00 reg 1.000000e+00 train accuracy: 0.254490 val accuracy: 0.265000\n",
      "lr 1.000000e+00 reg 0.000000e+00 train accuracy: 0.335347 val accuracy: 0.353000\n",
      "lr 1.000000e+00 reg 1.000000e+00 train accuracy: 0.248429 val accuracy: 0.254000\n",
      "best validation accuracy achieved during cross-validation: 0.353000\n"
     ]
    }
   ],
   "source": [
    "# Use the validation set to tune hyperparameters (regularization strength and\n",
    "# learning rate). You should experiment with different ranges for the learning\n",
    "# rates and regularization strengths; if you are careful you should be able to\n",
    "# get a classification accuracy of over 0.35 on the validation set.\n",
    "from cs231n.classifiers import Softmax\n",
    "results = {}\n",
    "best_val = -1\n",
    "best_softmax = None\n",
    "learning_rates = [1e-7, 5e-7]\n",
    "regularization_strengths = [5e4, 1e6]\n",
    "\n",
    "################################################################################\n",
    "# TODO:                                                                        #\n",
    "# Use the validation set to set the learning rate and regularization strength. #\n",
    "# This should be identical to the validation that you did for the SVM; save    #\n",
    "# the best trained softmax classifer in best_softmax.                          #\n",
    "################################################################################\n",
    "n = len(learning_rates)\n",
    "best_softmax = Softmax()\n",
    "loss_min  = 0\n",
    "for i in range(n):\n",
    "    for j in range(n):\n",
    "        softmax = Softmax()\n",
    "        loss_hist = softmax.train(X_train, y_train, learning_rate=learning_rates[i], reg=regularization_strengths[j],\n",
    "                      num_iters=1500, verbose=True)\n",
    "        y_train_pred = softmax.predict(X_train)\n",
    "        print 'training accuracy: %f' % (np.mean(y_train == y_train_pred), )\n",
    "        y_val_pred = softmax.predict(X_val)\n",
    "        print 'validation accuracy: %f' % (np.mean(y_val == y_val_pred), )\n",
    "        a = np.mean(y_val == y_val_pred)\n",
    "        results[i,j] = np.array([np.mean(y_train == y_train_pred), np.mean(y_val == y_val_pred)])\n",
    "        if (a > loss_min):\n",
    "            best_val = np.mean(y_val == y_val_pred)\n",
    "            loss_min = best_val\n",
    "            best_softmax = softmax\n",
    "################################################################################\n",
    "#                              END OF YOUR CODE                                #\n",
    "\n",
    "################################################################################\n",
    "    \n",
    "# Print out results.\n",
    "for lr, reg in sorted(results):\n",
    "    train_accuracy, val_accuracy = results[(lr, reg)]\n",
    "    print 'lr %e reg %e train accuracy: %f val accuracy: %f' % (\n",
    "                lr, reg, train_accuracy, val_accuracy)\n",
    "    \n",
    "print 'best validation accuracy achieved during cross-validation: %f' % best_val"
   ]
  },
  {
   "cell_type": "code",
   "execution_count": 54,
   "metadata": {
    "collapsed": false
   },
   "outputs": [
    {
     "name": "stdout",
     "output_type": "stream",
     "text": [
      "softmax on raw pixels final test set accuracy: 0.344000\n"
     ]
    }
   ],
   "source": [
    "# evaluate on test set\n",
    "# Evaluate the best softmax on test set\n",
    "y_test_pred = best_softmax.predict(X_test)\n",
    "test_accuracy = np.mean(y_test == y_test_pred)\n",
    "print 'softmax on raw pixels final test set accuracy: %f' % (test_accuracy, )"
   ]
  },
  {
   "cell_type": "code",
   "execution_count": 55,
   "metadata": {
    "collapsed": false
   },
   "outputs": [
    {
     "data": {
      "image/png": "[encoded data removed]",
      "text/plain": [
       "<matplotlib.figure.Figure at 0x7f19285a6c50>"
      ]
     },
     "metadata": {},
     "output_type": "display_data"
    }
   ],
   "source": [
    "# Visualize the learned weights for each class\n",
    "w = best_softmax.W[:-1,:] # strip out the bias\n",
    "w = w.reshape(32, 32, 3, 10)\n",
    "\n",
    "w_min, w_max = np.min(w), np.max(w)\n",
    "\n",
    "classes = ['plane', 'car', 'bird', 'cat', 'deer', 'dog', 'frog', 'horse', 'ship', 'truck']\n",
    "for i in xrange(10):\n",
    "  plt.subplot(2, 5, i + 1)\n",
    "  \n",
    "  # Rescale the weights to be between 0 and 255\n",
    "  wimg = 255.0 * (w[:, :, :, i].squeeze() - w_min) / (w_max - w_min)\n",
    "  plt.imshow(wimg.astype('uint8'))\n",
    "  plt.axis('off')\n",
    "  plt.title(classes[i])"
   ]
  },
  {
   "cell_type": "code",
   "execution_count": null,
   "metadata": {
    "collapsed": true
   },
   "outputs": [],
   "source": []
  }
 ],
 "metadata": {
  "kernelspec": {
   "display_name": "Python 2",
   "language": "python",
   "name": "python2"
  },
  "language_info": {
   "codemirror_mode": {
    "name": "ipython",
    "version": 2
   },
   "file_extension": ".py",
   "mimetype": "text/x-python",
   "name": "python",
   "nbconvert_exporter": "python",
   "pygments_lexer": "ipython2",
   "version": "2.7.6"
  }
 },
 "nbformat": 4,
 "nbformat_minor": 0
}
