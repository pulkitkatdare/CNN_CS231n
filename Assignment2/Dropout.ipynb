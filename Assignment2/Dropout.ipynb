{
 "cells": [
  {
   "cell_type": "markdown",
   "metadata": {},
   "source": [
    "# Dropout\n",
    "Dropout [1] is a technique for regularizing neural networks by randomly setting some features to zero during the forward pass. In this exercise you will implement a dropout layer and modify your fully-connected network to optionally use dropout.\n",
    "\n",
    "[1] Geoffrey E. Hinton et al, \"Improving neural networks by preventing co-adaptation of feature detectors\", arXiv 2012"
   ]
  },
  {
   "cell_type": "code",
   "execution_count": 1,
   "metadata": {
    "collapsed": false
   },
   "outputs": [
    {
     "name": "stderr",
     "output_type": "stream",
     "text": [
      "/home/pulkit/introduction_conv_neural_networks/assignment2/venv2.7/lib/python2.7/site-packages/matplotlib/font_manager.py:273: UserWarning: Matplotlib is building the font cache using fc-list. This may take a moment.\n",
      "  warnings.warn('Matplotlib is building the font cache using fc-list. This may take a moment.')\n"
     ]
    }
   ],
   "source": [
    "# As usual, a bit of setup\n",
    "\n",
    "import time\n",
    "import numpy as np\n",
    "import matplotlib.pyplot as plt\n",
    "from cs231n.classifiers.fc_net import *\n",
    "from cs231n.data_utils import get_CIFAR10_data\n",
    "from cs231n.gradient_check import eval_numerical_gradient, eval_numerical_gradient_array\n",
    "from cs231n.solver import Solver\n",
    "\n",
    "%matplotlib inline\n",
    "plt.rcParams['figure.figsize'] = (10.0, 8.0) # set default size of plots\n",
    "plt.rcParams['image.interpolation'] = 'nearest'\n",
    "plt.rcParams['image.cmap'] = 'gray'\n",
    "\n",
    "# for auto-reloading external modules\n",
    "# see http://stackoverflow.com/questions/1907993/autoreload-of-modules-in-ipython\n",
    "%load_ext autoreload\n",
    "%autoreload 2\n",
    "\n",
    "def rel_error(x, y):\n",
    "  \"\"\" returns relative error \"\"\"\n",
    "  return np.max(np.abs(x - y) / (np.maximum(1e-8, np.abs(x) + np.abs(y))))"
   ]
  },
  {
   "cell_type": "code",
   "execution_count": 2,
   "metadata": {
    "collapsed": false
   },
   "outputs": [
    {
     "name": "stdout",
     "output_type": "stream",
     "text": [
      "X_val:  (1000, 3, 32, 32)\n",
      "X_train:  (49000, 3, 32, 32)\n",
      "X_test:  (1000, 3, 32, 32)\n",
      "y_val:  (1000,)\n",
      "y_train:  (49000,)\n",
      "y_test:  (1000,)\n"
     ]
    }
   ],
   "source": [
    "# Load the (preprocessed) CIFAR10 data.\n",
    "\n",
    "data = get_CIFAR10_data()\n",
    "for k, v in data.iteritems():\n",
    "  print '%s: ' % k, v.shape"
   ]
  },
  {
   "cell_type": "markdown",
   "metadata": {},
   "source": [
    "# Dropout forward pass\n",
    "In the file `cs231n/layers.py`, implement the forward pass for dropout. Since dropout behaves differently during training and testing, make sure to implement the operation for both modes.\n",
    "\n",
    "Once you have done so, run the cell below to test your implementation."
   ]
  },
  {
   "cell_type": "code",
   "execution_count": 3,
   "metadata": {
    "collapsed": false
   },
   "outputs": [
    {
     "name": "stdout",
     "output_type": "stream",
     "text": [
      "Running tests with p =  0.3\n",
      "Mean of input:  10.0022092684\n",
      "Mean of train-time output:  2.99873344992\n",
      "Mean of test-time output:  10.0022092684\n",
      "Fraction of train-time output set to zero:  0.700388\n",
      "Fraction of test-time output set to zero:  0.0\n",
      "\n",
      "Running tests with p =  0.6\n",
      "Mean of input:  10.0022092684\n",
      "Mean of train-time output:  5.99628038475\n",
      "Mean of test-time output:  10.0022092684\n",
      "Fraction of train-time output set to zero:  0.400404\n",
      "Fraction of test-time output set to zero:  0.0\n",
      "\n",
      "Running tests with p =  0.75\n",
      "Mean of input:  10.0022092684\n",
      "Mean of train-time output:  7.52548852694\n",
      "Mean of test-time output:  10.0022092684\n",
      "Fraction of train-time output set to zero:  0.247548\n",
      "Fraction of test-time output set to zero:  0.0\n",
      "\n"
     ]
    }
   ],
   "source": [
    "x = np.random.randn(500, 500) + 10\n",
    "\n",
    "for p in [0.3, 0.6, 0.75]:\n",
    "  out, _ = dropout_forward(x, {'mode': 'train', 'p': p})\n",
    "  out_test, _ = dropout_forward(x, {'mode': 'test', 'p': p})\n",
    "\n",
    "  print 'Running tests with p = ', p\n",
    "  print 'Mean of input: ', x.mean()\n",
    "  print 'Mean of train-time output: ', out.mean()\n",
    "  print 'Mean of test-time output: ', out_test.mean()\n",
    "  print 'Fraction of train-time output set to zero: ', (out == 0).mean()\n",
    "  print 'Fraction of test-time output set to zero: ', (out_test == 0).mean()\n",
    "  print"
   ]
  },
  {
   "cell_type": "markdown",
   "metadata": {},
   "source": [
    "# Dropout backward pass\n",
    "In the file `cs231n/layers.py`, implement the backward pass for dropout. After doing so, run the following cell to numerically gradient-check your implementation."
   ]
  },
  {
   "cell_type": "code",
   "execution_count": 4,
   "metadata": {
    "collapsed": false
   },
   "outputs": [
    {
     "name": "stdout",
     "output_type": "stream",
     "text": [
      "dx relative error:  5.44561335084e-11\n"
     ]
    }
   ],
   "source": [
    "x = np.random.randn(10, 10) + 10\n",
    "dout = np.random.randn(*x.shape)\n",
    "\n",
    "dropout_param = {'mode': 'train', 'p': 0.8, 'seed': 123}\n",
    "out, cache = dropout_forward(x, dropout_param)\n",
    "dx = dropout_backward(dout, cache)\n",
    "dx_num = eval_numerical_gradient_array(lambda xx: dropout_forward(xx, dropout_param)[0], x, dout)\n",
    "\n",
    "print 'dx relative error: ', rel_error(dx, dx_num)"
   ]
  },
  {
   "cell_type": "markdown",
   "metadata": {},
   "source": [
    "# Fully-connected nets with Dropout\n",
    "In the file `cs231n/classifiers/fc_net.py`, modify your implementation to use dropout. Specificially, if the constructor the the net receives a nonzero value for the `dropout` parameter, then the net should add dropout immediately after every ReLU nonlinearity. After doing so, run the following to numerically gradient-check your implementation."
   ]
  },
  {
   "cell_type": "code",
   "execution_count": 5,
   "metadata": {
    "collapsed": false
   },
   "outputs": [
    {
     "name": "stdout",
     "output_type": "stream",
     "text": [
      "Running check with dropout =  0\n",
      "Initial loss:  1.1525974137\n",
      "('W', 0) relative error: 2.53e-07\n",
      "('W', 1) relative error: 1.50e-05\n",
      "('W', 2) relative error: 2.75e-07\n",
      "('b', 0) relative error: 2.94e-06\n",
      "('b', 1) relative error: 5.05e-08\n",
      "('b', 2) relative error: 1.17e-10\n",
      "\n",
      "Running check with dropout =  0.25\n",
      "Initial loss:  1.15119661528\n",
      "('W', 0) relative error: 3.39e-07\n",
      "('W', 1) relative error: 2.24e-07\n",
      "('W', 2) relative error: 1.97e-07\n",
      "('b', 0) relative error: 3.68e-08\n",
      "('b', 1) relative error: 5.47e-09\n",
      "('b', 2) relative error: 7.54e-11\n",
      "\n",
      "Running check with dropout =  0.5\n",
      "Initial loss:  1.15067321905\n",
      "('W', 0) relative error: 1.29e-07\n",
      "('W', 1) relative error: 3.95e-07\n",
      "('W', 2) relative error: 4.28e-07\n",
      "('b', 0) relative error: 6.99e-09\n",
      "('b', 1) relative error: 2.82e-09\n",
      "('b', 2) relative error: 8.93e-11\n",
      "\n"
     ]
    }
   ],
   "source": [
    "N, D, H1, H2, C = 2, 15, 20, 30, 10\n",
    "X = np.random.randn(N, D)\n",
    "y = np.random.randint(C, size=(N,))\n",
    "\n",
    "for dropout in [0, 0.25, 0.5]:\n",
    "  print 'Running check with dropout = ', dropout\n",
    "  model = FullyConnectedNet([H1, H2], input_dim=D, num_classes=C,\n",
    "                            weight_scale=5e-2, dtype=np.float64,\n",
    "                            dropout=dropout, seed=123)\n",
    "\n",
    "  loss, grads = model.loss(X, y)\n",
    "  print 'Initial loss: ', loss\n",
    "\n",
    "  for name in sorted(grads):\n",
    "    f = lambda _: model.loss(X, y)[0]\n",
    "    grad_num = eval_numerical_gradient(f, model.params[name], verbose=False, h=1e-5)\n",
    "    print '%s relative error: %.2e' % (name, rel_error(grad_num, grads[name]))\n",
    "  print"
   ]
  },
  {
   "cell_type": "markdown",
   "metadata": {},
   "source": [
    "# Regularization experiment\n",
    "As an experiment, we will train a pair of two-layer networks on 500 training examples: one will use no dropout, and one will use a dropout probability of 0.75. We will then visualize the training and validation accuracies of the two networks over time."
   ]
  },
  {
   "cell_type": "code",
   "execution_count": 8,
   "metadata": {
    "collapsed": false
   },
   "outputs": [],
   "source": [
    "N = np.shape(data['X_train'])[0]\n",
    "data['X_train'] = np.reshape(data['X_train'],(N,-1))\n",
    "data['X_test']  = np.reshape(data['X_test'],(np.shape(data['X_test'])[0],-1))\n",
    "data['X_val']  = np.reshape(data['X_val'],(np.shape(data['X_val'])[0],-1))\n",
    "mean_image = np.mean(data['X_train'])\n",
    "data['X_train'] -= mean_image\n",
    "data['X_test'] -= mean_image\n",
    "data['X_val']  -= mean_image"
   ]
  },
  {
   "cell_type": "code",
   "execution_count": 10,
   "metadata": {
    "collapsed": false,
    "scrolled": false
   },
   "outputs": [
    {
     "name": "stdout",
     "output_type": "stream",
     "text": [
      "0\n",
      "(Iteration 1 / 125) loss: 0.024718\n",
      "(Epoch 0 / 25) train acc: 0.214000; val_acc: 0.189000\n",
      "(Epoch 1 / 25) train acc: 0.356000; val_acc: 0.223000\n",
      "(Epoch 2 / 25) train acc: 0.504000; val_acc: 0.245000\n",
      "(Epoch 3 / 25) train acc: 0.616000; val_acc: 0.292000\n",
      "(Epoch 4 / 25) train acc: 0.740000; val_acc: 0.309000\n",
      "(Epoch 5 / 25) train acc: 0.830000; val_acc: 0.328000\n",
      "(Epoch 6 / 25) train acc: 0.884000; val_acc: 0.299000\n",
      "(Epoch 7 / 25) train acc: 0.910000; val_acc: 0.328000\n",
      "(Epoch 8 / 25) train acc: 0.940000; val_acc: 0.326000\n",
      "(Epoch 9 / 25) train acc: 0.960000; val_acc: 0.331000\n",
      "(Epoch 10 / 25) train acc: 0.986000; val_acc: 0.329000\n",
      "(Epoch 11 / 25) train acc: 0.988000; val_acc: 0.316000\n",
      "(Epoch 12 / 25) train acc: 0.992000; val_acc: 0.320000\n",
      "(Epoch 13 / 25) train acc: 0.994000; val_acc: 0.332000\n",
      "(Epoch 14 / 25) train acc: 0.998000; val_acc: 0.326000\n",
      "(Epoch 15 / 25) train acc: 0.998000; val_acc: 0.317000\n",
      "(Epoch 16 / 25) train acc: 1.000000; val_acc: 0.324000\n",
      "(Epoch 17 / 25) train acc: 1.000000; val_acc: 0.336000\n",
      "(Epoch 18 / 25) train acc: 1.000000; val_acc: 0.338000\n",
      "(Epoch 19 / 25) train acc: 1.000000; val_acc: 0.337000\n",
      "(Epoch 20 / 25) train acc: 1.000000; val_acc: 0.334000\n",
      "(Iteration 101 / 125) loss: 0.000093\n",
      "(Epoch 21 / 25) train acc: 1.000000; val_acc: 0.332000\n",
      "(Epoch 22 / 25) train acc: 1.000000; val_acc: 0.328000\n",
      "(Epoch 23 / 25) train acc: 1.000000; val_acc: 0.327000\n",
      "(Epoch 24 / 25) train acc: 1.000000; val_acc: 0.326000\n",
      "(Epoch 25 / 25) train acc: 1.000000; val_acc: 0.328000\n",
      "0.75\n",
      "(Iteration 1 / 125) loss: 0.026504\n",
      "(Epoch 0 / 25) train acc: 0.252000; val_acc: 0.182000\n",
      "(Epoch 1 / 25) train acc: 0.418000; val_acc: 0.249000\n",
      "(Epoch 2 / 25) train acc: 0.524000; val_acc: 0.254000\n",
      "(Epoch 3 / 25) train acc: 0.582000; val_acc: 0.281000\n",
      "(Epoch 4 / 25) train acc: 0.686000; val_acc: 0.274000\n",
      "(Epoch 5 / 25) train acc: 0.798000; val_acc: 0.300000\n",
      "(Epoch 6 / 25) train acc: 0.880000; val_acc: 0.332000\n",
      "(Epoch 7 / 25) train acc: 0.902000; val_acc: 0.320000\n",
      "(Epoch 8 / 25) train acc: 0.946000; val_acc: 0.310000\n",
      "(Epoch 9 / 25) train acc: 0.934000; val_acc: 0.330000\n",
      "(Epoch 10 / 25) train acc: 0.974000; val_acc: 0.307000\n",
      "(Epoch 11 / 25) train acc: 0.988000; val_acc: 0.322000\n",
      "(Epoch 12 / 25) train acc: 0.996000; val_acc: 0.342000\n",
      "(Epoch 13 / 25) train acc: 0.998000; val_acc: 0.331000\n",
      "(Epoch 14 / 25) train acc: 0.998000; val_acc: 0.327000\n",
      "(Epoch 15 / 25) train acc: 0.996000; val_acc: 0.331000\n",
      "(Epoch 16 / 25) train acc: 0.996000; val_acc: 0.331000\n",
      "(Epoch 17 / 25) train acc: 1.000000; val_acc: 0.333000\n",
      "(Epoch 18 / 25) train acc: 1.000000; val_acc: 0.339000\n",
      "(Epoch 19 / 25) train acc: 1.000000; val_acc: 0.335000\n",
      "(Epoch 20 / 25) train acc: 1.000000; val_acc: 0.333000\n",
      "(Iteration 101 / 125) loss: 0.000144\n",
      "(Epoch 21 / 25) train acc: 1.000000; val_acc: 0.338000\n",
      "(Epoch 22 / 25) train acc: 1.000000; val_acc: 0.337000\n",
      "(Epoch 23 / 25) train acc: 1.000000; val_acc: 0.333000\n",
      "(Epoch 24 / 25) train acc: 1.000000; val_acc: 0.333000\n",
      "(Epoch 25 / 25) train acc: 1.000000; val_acc: 0.331000\n"
     ]
    }
   ],
   "source": [
    "# Train two identical nets, one with dropout and one without\n",
    "\n",
    "num_train = 500\n",
    "\n",
    "small_data = {\n",
    "  'X_train': data['X_train'][:num_train],\n",
    "  'y_train': data['y_train'][:num_train],\n",
    "  'X_val': data['X_val'],\n",
    "  'y_val': data['y_val'],\n",
    "}\n",
    "\n",
    "solvers = {}\n",
    "dropout_choices = [0, 0.75]\n",
    "for dropout in dropout_choices:\n",
    "  model = FullyConnectedNet([500,500], dropout=dropout)\n",
    "  print dropout\n",
    "\n",
    "  solver = Solver(model, small_data,\n",
    "                  num_epochs=25, batch_size=100,\n",
    "                  update_rule='adam',\n",
    "                  optim_config={\n",
    "                    'learning_rate': 5e-4,\n",
    "                  },\n",
    "                  verbose=True, print_every=100)\n",
    "  solver.train()\n",
    "  solvers[dropout] = solver"
   ]
  },
  {
   "cell_type": "code",
   "execution_count": null,
   "metadata": {
    "collapsed": false
   },
   "outputs": [],
   "source": [
    "# Plot train and validation accuracies of the two models\n",
    "\n",
    "train_accs = []\n",
    "val_accs = []\n",
    "for dropout in dropout_choices:\n",
    "  solver = solvers[dropout]\n",
    "  train_accs.append(solver.train_acc_history[-1])\n",
    "  val_accs.append(solver.val_acc_history[-1])\n",
    "\n",
    "plt.subplot(3, 1, 1)\n",
    "for dropout in dropout_choices:\n",
    "  plt.plot(solvers[dropout].train_acc_history, 'o', label='%.2f dropout' % dropout)\n",
    "plt.title('Train accuracy')\n",
    "plt.xlabel('Epoch')\n",
    "plt.ylabel('Accuracy')\n",
    "plt.legend(ncol=2, loc='lower right')\n",
    "  \n",
    "plt.subplot(3, 1, 2)\n",
    "for dropout in dropout_choices:\n",
    "  plt.plot(solvers[dropout].val_acc_history, 'o', label='%.2f dropout' % dropout)\n",
    "plt.title('Val accuracy')\n",
    "plt.xlabel('Epoch')\n",
    "plt.ylabel('Accuracy')\n",
    "plt.legend(ncol=2, loc='lower right')\n",
    "\n",
    "plt.gcf().set_size_inches(15, 15)\n",
    "plt.show()"
   ]
  },
  {
   "cell_type": "markdown",
   "metadata": {},
   "source": [
    "# Question\n",
    "Explain what you see in this experiment. What does it suggest about dropout?"
   ]
  },
  {
   "cell_type": "markdown",
   "metadata": {},
   "source": [
    "# Answer\n"
   ]
  }
 ],
 "metadata": {
  "kernelspec": {
   "display_name": "Python 2",
   "language": "python",
   "name": "python2"
  },
  "language_info": {
   "codemirror_mode": {
    "name": "ipython",
    "version": 2
   },
   "file_extension": ".py",
   "mimetype": "text/x-python",
   "name": "python",
   "nbconvert_exporter": "python",
   "pygments_lexer": "ipython2",
   "version": "2.7.6"
  }
 },
 "nbformat": 4,
 "nbformat_minor": 0
}
